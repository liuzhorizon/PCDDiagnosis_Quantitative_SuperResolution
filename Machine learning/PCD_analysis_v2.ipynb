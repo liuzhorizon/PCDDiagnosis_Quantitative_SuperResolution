{
  "nbformat": 4,
  "nbformat_minor": 0,
  "metadata": {
    "colab": {
      "name": "PCD analysis v2",
      "provenance": [],
      "collapsed_sections": []
    },
    "kernelspec": {
      "name": "python3",
      "display_name": "Python 3"
    }
  },
  "cells": [
    {
      "cell_type": "code",
      "metadata": {
        "id": "OfxeTK93yHkD",
        "colab_type": "code",
        "colab": {}
      },
      "source": [
        "import os\n",
        "import os.path\n",
        "from PIL import Image\n",
        "import numpy as np\n",
        "import matplotlib.pyplot as plt\n",
        "from scipy.stats.stats import pearsonr   \n",
        "from scipy.ndimage.filters import gaussian_filter\n",
        "from sklearn.svm import SVC\n",
        "import seaborn as sns\n",
        "import pandas as pd"
      ],
      "execution_count": 0,
      "outputs": []
    },
    {
      "cell_type": "markdown",
      "metadata": {
        "id": "Hpe3bO1r1nkK",
        "colab_type": "text"
      },
      "source": [
        "Mount google drive where folder of images has been added"
      ]
    },
    {
      "cell_type": "code",
      "metadata": {
        "id": "jyFbxcsryMee",
        "colab_type": "code",
        "outputId": "6bb6f347-263e-431f-fc7e-7d73d80424e8",
        "colab": {
          "base_uri": "https://localhost:8080/",
          "height": 124
        }
      },
      "source": [
        "from google.colab import drive\n",
        "drive.mount('/content/drive/',force_remount=True)"
      ],
      "execution_count": 0,
      "outputs": [
        {
          "output_type": "stream",
          "text": [
            "Go to this URL in a browser: https://accounts.google.com/o/oauth2/auth?client_id=947318989803-6bn6qk8qdgf4n4g3pfee6491hc0brc4i.apps.googleusercontent.com&redirect_uri=urn%3Aietf%3Awg%3Aoauth%3A2.0%3Aoob&scope=email%20https%3A%2F%2Fwww.googleapis.com%2Fauth%2Fdocs.test%20https%3A%2F%2Fwww.googleapis.com%2Fauth%2Fdrive%20https%3A%2F%2Fwww.googleapis.com%2Fauth%2Fdrive.photos.readonly%20https%3A%2F%2Fwww.googleapis.com%2Fauth%2Fpeopleapi.readonly&response_type=code\n",
            "\n",
            "Enter your authorization code:\n",
            "··········\n",
            "Mounted at /content/drive/\n"
          ],
          "name": "stdout"
        }
      ]
    },
    {
      "cell_type": "code",
      "metadata": {
        "id": "ugn9IiorzVUm",
        "colab_type": "code",
        "outputId": "5af29ad0-f034-40d6-9619-e1c9d449b71e",
        "colab": {
          "base_uri": "https://localhost:8080/",
          "height": 35
        }
      },
      "source": [
        "## Sanity check to make sure drive is connected \n",
        "os.listdir('/content/drive/My Drive/Machine Learning_Max Intensity Projections/DNAH11 machine learning/') "
      ],
      "execution_count": 0,
      "outputs": [
        {
          "output_type": "execute_result",
          "data": {
            "text/plain": [
              "['PCD25', 'PCD30', 'PCD47', 'WT_Elias', 'WT_Jasmine', 'WT_Michael']"
            ]
          },
          "metadata": {
            "tags": []
          },
          "execution_count": 3
        }
      ]
    },
    {
      "cell_type": "markdown",
      "metadata": {
        "id": "nk9tfM5j1lBb",
        "colab_type": "text"
      },
      "source": [
        "Functions we'll use"
      ]
    },
    {
      "cell_type": "code",
      "metadata": {
        "id": "4lsCwVmh0dzp",
        "colab_type": "code",
        "colab": {}
      },
      "source": [
        "def process_image(im):\n",
        "\t''' im is Image object, returned by call to open (Pillow) '''\n",
        "\tim_arr = np.asarray(im, dtype='float32')\n",
        "\tthresh = im_arr[:,:,0] > np.percentile(im_arr[:,:,0], 20)\n",
        "\tcorr, _ = pearsonr(im_arr[thresh, 0], im_arr[thresh, 1])\n",
        "\treturn corr\n",
        "\n",
        "def get_corr_im_dir(DIR):\t\n",
        "  im_list = os.listdir(DIR)\n",
        "  corr_list = []\n",
        "  names = []\n",
        "  for im in im_list:\n",
        "    if im.lower()[-4:] == \".tif\":\n",
        "      im_ob = Image.open(os.path.join(DIR, im))\n",
        "      corr = process_image(im_ob)\n",
        "      corr_list.append(corr)\n",
        "      names.append(DIR + im)\n",
        "\n",
        "  return np.asarray(corr_list), np.asarray(names)"
      ],
      "execution_count": 0,
      "outputs": []
    },
    {
      "cell_type": "markdown",
      "metadata": {
        "id": "1plTQ2en1b8C",
        "colab_type": "text"
      },
      "source": [
        "Sample locations"
      ]
    },
    {
      "cell_type": "code",
      "metadata": {
        "id": "KshrHPZz1UK0",
        "colab_type": "code",
        "colab": {}
      },
      "source": [
        "\n",
        "## DNAH5\n",
        "\n",
        "DNAH5_wt1 = '/content/drive/My Drive/Machine Learning_Max Intensity Projections/DNAH5 machine learning/WT_cropped/'\n",
        "DNAH5_wt2 = '/content/drive/My Drive/Machine Learning_Max Intensity Projections/DNAH5 machine learning/WT_Zhen_crop/' \n",
        "DNAH5_wt3 = '/content/drive/My Drive/Machine Learning_Max Intensity Projections/DNAH5 machine learning/WT FOR PCD17 CROPPED CELLS/' ## TRAIN CONTROL \n",
        "DNAH5_wt4 = '/content/drive/My Drive/Machine Learning_Max Intensity Projections/DNAH5 machine learning/WT_Elias_crop/'\n",
        "#DNAH5_wt4 = '/content/drive/My Drive/Machine Learning_Max Intensity Projections/DNAH5 machine learning/WT FOR PCD23 CROPPED CELLS/' ## problem with contrast\n",
        "DNAH5_wt5 = '/content/drive/My Drive/Machine Learning_Max Intensity Projections/DNAH5 machine learning/WTjasmine/'\n",
        "\n",
        "DNAH5_pcd35 = '/content/drive/My Drive/Machine Learning_Max Intensity Projections/DNAH5 machine learning/PCD35_cropped/' ## TRAIN CASE\n",
        "DNAH5_pcd36 = '/content/drive/My Drive/Machine Learning_Max Intensity Projections/DNAH5 machine learning/PCD36_cropped/' ## TRAIN CONTROL\n",
        "DNAH5_pcd38 = '/content/drive/My Drive/Machine Learning_Max Intensity Projections/DNAH5 machine learning/PCD38_cropped/'\n",
        "DNAH5_pcd17 = '/content/drive/My Drive/Machine Learning_Max Intensity Projections/DNAH5 machine learning/PCD17_cropped/'\n",
        "DNAH5_pcd40 = '/content/drive/My Drive/Machine Learning_Max Intensity Projections/DNAH5 machine learning/PCD40_crop/'\n",
        "DNAH5_pcd42 = '/content/drive/My Drive/Machine Learning_Max Intensity Projections/DNAH5 machine learning/PCD42/'\n",
        "DNAH5_pcd43 = '/content/drive/My Drive/Machine Learning_Max Intensity Projections/DNAH5 machine learning/PCD43/'\n",
        "DNAH5_pcd20 = '/content/drive/My Drive/Machine Learning_Max Intensity Projections/DNAH5 machine learning/PCD20/'\n",
        "\n",
        "## CCDC39\n",
        "\n",
        "CCDC39_pt1 = '/content/drive/My Drive/Machine Learning_Max Intensity Projections/CCDC39 machine learning/CCDC39_PCD33_cells cropped/'\n",
        "CCDC39_wt1 = '/content/drive/My Drive/Machine Learning_Max Intensity Projections/CCDC39 machine learning/CCDC39_WTcells_cropped/'\n",
        "\n",
        "## DNAH11\n",
        "\n",
        "DNAH11_pt1 = '/content/drive/My Drive/Machine Learning_Max Intensity Projections/DNAH11 machine learning/PCD47/'\n",
        "DNAH11_pt2 = '/content/drive/My Drive/Machine Learning_Max Intensity Projections/DNAH11 machine learning/PCD30/'\n",
        "DNAH11_pt3 = '/content/drive/My Drive/Machine Learning_Max Intensity Projections/DNAH11 machine learning/PCD25/'\n",
        "\n",
        "DNAH11_wt1 = '/content/drive/My Drive/Machine Learning_Max Intensity Projections/DNAH11 machine learning/WT_Michael/'\n",
        "DNAH11_wt2 = '/content/drive/My Drive/Machine Learning_Max Intensity Projections/DNAH11 machine learning/WT_Jasmine/'\n",
        "DNAH11_wt3 = '/content/drive/My Drive/Machine Learning_Max Intensity Projections/DNAH11 machine learning/WT_Elias/'\n"
      ],
      "execution_count": 0,
      "outputs": []
    },
    {
      "cell_type": "markdown",
      "metadata": {
        "id": "T1JTtXIN2AeO",
        "colab_type": "text"
      },
      "source": [
        "Read in and save the sample data as numpy arrays"
      ]
    },
    {
      "cell_type": "code",
      "metadata": {
        "id": "ANhTwu7z2Ey8",
        "colab_type": "code",
        "colab": {}
      },
      "source": [
        "## DNAH5\n",
        "\n",
        "# DNAH5_wt1_cor, _ = get_corr_im_dir(DNAH5_wt1)\n",
        "# DNAH5_wt2_cor, _ = get_corr_im_dir(DNAH5_wt2)\n",
        "# DNAH5_wt3_cor, _ = get_corr_im_dir(DNAH5_wt3)\n",
        "# DNAH5_wt4_cor, _ = get_corr_im_dir(DNAH5_wt4)\n",
        "# DNAH5_wt5_cor, _ = get_corr_im_dir(DNAH5_wt5)\n",
        "\n",
        "# DNAH5_pcd35_cor, _ = get_corr_im_dir(DNAH5_pcd35)\n",
        "# DNAH5_pcd36_cor, _ = get_corr_im_dir(DNAH5_pcd36)\n",
        "# DNAH5_pcd38_cor, _ = get_corr_im_dir(DNAH5_pcd38)\n",
        "# DNAH5_pcd17_cor, _ = get_corr_im_dir(DNAH5_pcd17)\n",
        "# DNAH5_pcd40_cor, _ = get_corr_im_dir(DNAH5_pcd40)\n",
        "# DNAH5_pcd42_cor, _ = get_corr_im_dir(DNAH5_pcd42)\n",
        "# DNAH5_pcd43_cor, _ = get_corr_im_dir(DNAH5_pcd43)\n",
        "# DNAH5_pcd20_cor, _ = get_corr_im_dir(DNAH5_pcd20)\n",
        "\n",
        "# ## CCDC39\n",
        "\n",
        "# CCDC39_pt1_cor, _ = get_corr_im_dir(CCDC39_pt1)\n",
        "# CCDC39_wt1_cor, _ = get_corr_im_dir(CCDC39_wt1)\n",
        "\n",
        "## DNAH11\n",
        "\n",
        "DNAH11_pt1_cor, _ = get_corr_im_dir(DNAH11_pt1)\n",
        "DNAH11_wt1_cor, _ = get_corr_im_dir(DNAH11_wt1)\n",
        "DNAH11_pt2_cor, _ = get_corr_im_dir(DNAH11_pt2)\n",
        "DNAH11_wt2_cor, _ = get_corr_im_dir(DNAH11_wt2)\n",
        "#DNAH11_pt3_cor, _ = get_corr_im_dir(DNAH11_pt3)\n",
        "DNAH11_wt3_cor, _ = get_corr_im_dir(DNAH11_wt3)"
      ],
      "execution_count": 0,
      "outputs": []
    },
    {
      "cell_type": "markdown",
      "metadata": {
        "id": "IRqccIFieyv4",
        "colab_type": "text"
      },
      "source": [
        "## DNAH5 ANALYSIS"
      ]
    },
    {
      "cell_type": "markdown",
      "metadata": {
        "id": "oTYx40KL8Vf8",
        "colab_type": "text"
      },
      "source": [
        "Create DNAH5-only dataframe to build and test classifier "
      ]
    },
    {
      "cell_type": "code",
      "metadata": {
        "id": "67doGgKG8UhX",
        "colab_type": "code",
        "colab": {}
      },
      "source": [
        "## np array of per-cell cilia correlations\n",
        "comb_cor = np.concatenate((DNAH5_wt1_cor,\n",
        "                           DNAH5_wt2_cor,\n",
        "                           DNAH5_wt3_cor,\n",
        "                           DNAH5_wt4_cor,\n",
        "                           DNAH5_wt5_cor,\n",
        "                           DNAH5_pcd35_cor,\n",
        "                           DNAH5_pcd36_cor,\n",
        "                           DNAH5_pcd38_cor,\n",
        "                           DNAH5_pcd17_cor,\n",
        "                           DNAH5_pcd40_cor,\n",
        "                           DNAH5_pcd42_cor,\n",
        "                           DNAH5_pcd43_cor,\n",
        "                           DNAH5_pcd20_cor),axis = 0)\n",
        "\n",
        "## np array of all sample names\n",
        "cor_names = np.concatenate((np.repeat(\"DNAH5_wt1\",len(DNAH5_wt1_cor)),\n",
        "                      np.repeat(\"DNAH5_wt2\",len(DNAH5_wt2_cor)),\n",
        "                      np.repeat(\"DNAH5_wt3\",len(DNAH5_wt3_cor)),\n",
        "                      np.repeat(\"DNAH5_wt4\",len(DNAH5_wt4_cor)),\n",
        "                      np.repeat(\"DNAH5_wt5\",len(DNAH5_wt5_cor)),\n",
        "                      np.repeat(\"DNAH5_pcd35\",len(DNAH5_pcd35_cor)),\n",
        "                      np.repeat(\"DNAH5_pcd36\",len(DNAH5_pcd36_cor)),\n",
        "                      np.repeat(\"DNAH5_pcd38\",len(DNAH5_pcd38_cor)),\n",
        "                      np.repeat(\"DNAH5_pcd17\",len(DNAH5_pcd17_cor)),\n",
        "                      np.repeat(\"DNAH5_pcd40\",len(DNAH5_pcd40_cor)),\n",
        "                      np.repeat(\"DNAH5_pcd42\",len(DNAH5_pcd42_cor)),\n",
        "                      np.repeat(\"DNAH5_pcd43\",len(DNAH5_pcd43_cor)),\n",
        "                      np.repeat(\"DNAH5_pcd20\",len(DNAH5_pcd20_cor))),axis = 0)\n",
        "\n",
        "## np array of {0,1} labels \n",
        "case_status = np.concatenate((np.repeat(0,len(DNAH5_wt1_cor)),\n",
        "                      np.repeat(0,len(DNAH5_wt2_cor)),\n",
        "                      np.repeat(0,len(DNAH5_wt3_cor)),\n",
        "                      np.repeat(0,len(DNAH5_wt4_cor)),\n",
        "                      np.repeat(0,len(DNAH5_wt5_cor)),\n",
        "                      np.repeat(1,len(DNAH5_pcd35_cor)),\n",
        "                      np.repeat(1,len(DNAH5_pcd36_cor)),\n",
        "                      np.repeat(1,len(DNAH5_pcd38_cor)),\n",
        "                      np.repeat(1,len(DNAH5_pcd17_cor)),\n",
        "                      np.repeat(1,len(DNAH5_pcd40_cor)),\n",
        "                      np.repeat(1,len(DNAH5_pcd42_cor)),\n",
        "                      np.repeat(1,len(DNAH5_pcd43_cor)),\n",
        "                      np.repeat(1,len(DNAH5_pcd20_cor))),axis = 0)\n",
        "\n",
        "## creating df\n",
        "dnah5_df = pd.DataFrame.from_dict({'Correlation' : comb_cor, 'Sample' : cor_names, 'Label' : case_status})\n",
        "                                  "
      ],
      "execution_count": 0,
      "outputs": []
    },
    {
      "cell_type": "code",
      "metadata": {
        "id": "HgW7yINmQa9g",
        "colab_type": "code",
        "outputId": "219f411b-9481-4abf-e70b-196ee48c20d5",
        "colab": {
          "base_uri": "https://localhost:8080/",
          "height": 204
        }
      },
      "source": [
        "dnah5_df.head()\n"
      ],
      "execution_count": 0,
      "outputs": [
        {
          "output_type": "execute_result",
          "data": {
            "text/html": [
              "<div>\n",
              "<style scoped>\n",
              "    .dataframe tbody tr th:only-of-type {\n",
              "        vertical-align: middle;\n",
              "    }\n",
              "\n",
              "    .dataframe tbody tr th {\n",
              "        vertical-align: top;\n",
              "    }\n",
              "\n",
              "    .dataframe thead th {\n",
              "        text-align: right;\n",
              "    }\n",
              "</style>\n",
              "<table border=\"1\" class=\"dataframe\">\n",
              "  <thead>\n",
              "    <tr style=\"text-align: right;\">\n",
              "      <th></th>\n",
              "      <th>Correlation</th>\n",
              "      <th>Sample</th>\n",
              "      <th>Label</th>\n",
              "    </tr>\n",
              "  </thead>\n",
              "  <tbody>\n",
              "    <tr>\n",
              "      <th>0</th>\n",
              "      <td>0.516252</td>\n",
              "      <td>DNAH5_wt1</td>\n",
              "      <td>0</td>\n",
              "    </tr>\n",
              "    <tr>\n",
              "      <th>1</th>\n",
              "      <td>0.467006</td>\n",
              "      <td>DNAH5_wt1</td>\n",
              "      <td>0</td>\n",
              "    </tr>\n",
              "    <tr>\n",
              "      <th>2</th>\n",
              "      <td>0.152175</td>\n",
              "      <td>DNAH5_wt1</td>\n",
              "      <td>0</td>\n",
              "    </tr>\n",
              "    <tr>\n",
              "      <th>3</th>\n",
              "      <td>0.708480</td>\n",
              "      <td>DNAH5_wt1</td>\n",
              "      <td>0</td>\n",
              "    </tr>\n",
              "    <tr>\n",
              "      <th>4</th>\n",
              "      <td>0.463679</td>\n",
              "      <td>DNAH5_wt1</td>\n",
              "      <td>0</td>\n",
              "    </tr>\n",
              "  </tbody>\n",
              "</table>\n",
              "</div>"
            ],
            "text/plain": [
              "   Correlation     Sample  Label\n",
              "0     0.516252  DNAH5_wt1      0\n",
              "1     0.467006  DNAH5_wt1      0\n",
              "2     0.152175  DNAH5_wt1      0\n",
              "3     0.708480  DNAH5_wt1      0\n",
              "4     0.463679  DNAH5_wt1      0"
            ]
          },
          "metadata": {
            "tags": []
          },
          "execution_count": 28
        }
      ]
    },
    {
      "cell_type": "markdown",
      "metadata": {
        "id": "9BhBLwq9B6pp",
        "colab_type": "text"
      },
      "source": [
        "Train classifier for each held out sample of DNAH5 patients and controls\n"
      ]
    },
    {
      "cell_type": "code",
      "metadata": {
        "id": "EtaR6MGq8LX2",
        "colab_type": "code",
        "colab": {}
      },
      "source": [
        "## Extract training samples, Cases: , Controls: \n",
        "training_samples = [\"DNAH5_wt1\",\"DNAH5_wt3\",\"DNAH5_pcd35\",\"DNAH5_pcd36\"]\n",
        "train_df = dnah5_df.set_index(\"Sample\")\n",
        "train_df = train_df.loc[training_samples] ## extract training samples \n",
        "\n",
        "## Extract test samples (everyone else)\n",
        "test_df = dnah5_df.set_index(\"Sample\")\n",
        "test_df = test_df.drop(training_samples,axis=0) ## drop training samples \n",
        "\n",
        "\n",
        "x = np.array(train_df.Correlation.tolist())\n",
        "y = np.array(train_df.Label.tolist())\n",
        "\n",
        "clf = SVC(kernel='rbf',gamma = 'auto', random_state=1234).fit(x.reshape(-1,1),y)\n",
        "\n",
        "## predict in held out sample \n",
        "x_ho = np.array(test_df.Correlation.tolist()).reshape(-1,1)\n",
        "y_ho = np.array(test_df.Label.tolist())\n",
        "\n",
        "ho_pred = clf.predict(x_ho)\n",
        "\n",
        "pred_array = ho_pred\n",
        "label_array = y_ho\n",
        "sample_array = np.array(test_df.index)\n"
      ],
      "execution_count": 0,
      "outputs": []
    },
    {
      "cell_type": "code",
      "metadata": {
        "id": "KWZFPbleJVYT",
        "colab_type": "code",
        "outputId": "4ed2ccbd-9d17-4f5a-97f9-d94ef6431877",
        "colab": {
          "base_uri": "https://localhost:8080/",
          "height": 170
        }
      },
      "source": [
        "sample_names = test_df.index.unique()\n",
        "\n",
        "dnah5_pred_df = pd.DataFrame.from_dict({'Prediction' : pred_array, 'Sample' : sample_array, 'Label' : label_array})\n",
        "dnah5_pred_df = dnah5_pred_df.set_index(\"Sample\")\n",
        "\n",
        "for name in sample_names: \n",
        "  pred_mean = dnah5_pred_df.loc[name].Prediction.mean()\n",
        "  pred_mean_sd = dnah5_pred_df.loc[name].Prediction.std()\n",
        "  pred_samp_size = dnah5_pred_df.loc[name].Prediction.size\n",
        "  pred_se_mean = pred_mean_sd/np.sqrt(pred_samp_size)\n",
        "  pred_lcl = pred_mean - 1.96*pred_se_mean\n",
        "  pred_ucl = pred_mean + 1.96*pred_se_mean\n",
        "  print(name,\"Mean: \",pred_mean,\", LCL: \",pred_lcl,\", UCL: \",pred_ucl)\n",
        "\n"
      ],
      "execution_count": 0,
      "outputs": [
        {
          "output_type": "stream",
          "text": [
            "DNAH5_wt2 Mean:  0.09090909090909091 , LCL:  0.03693937434917507 , UCL:  0.14487880746900675\n",
            "DNAH5_wt4 Mean:  0.010101010101010102 , LCL:  -0.009696969696969716 , UCL:  0.029898989898989918\n",
            "DNAH5_wt5 Mean:  0.0 , LCL:  0.0 , UCL:  0.0\n",
            "DNAH5_pcd38 Mean:  0.7103448275862069 , LCL:  0.6362564506696218 , UCL:  0.784433204502792\n",
            "DNAH5_pcd17 Mean:  0.9926470588235294 , LCL:  0.9782352941176471 , UCL:  1.0070588235294118\n",
            "DNAH5_pcd40 Mean:  0.6666666666666666 , LCL:  0.5747299208219085 , UCL:  0.7586034125114247\n",
            "DNAH5_pcd42 Mean:  1.0 , LCL:  1.0 , UCL:  1.0\n",
            "DNAH5_pcd43 Mean:  1.0 , LCL:  1.0 , UCL:  1.0\n",
            "DNAH5_pcd20 Mean:  0.8554216867469879 , LCL:  0.7793030765498128 , UCL:  0.9315402969441631\n"
          ],
          "name": "stdout"
        }
      ]
    },
    {
      "cell_type": "markdown",
      "metadata": {
        "id": "f4St1obhfEkW",
        "colab_type": "text"
      },
      "source": [
        "## DNAH11 ANALYSIS"
      ]
    },
    {
      "cell_type": "markdown",
      "metadata": {
        "colab_type": "text",
        "id": "RvQ2r2vCfPRA"
      },
      "source": [
        "Create DNAH11-only dataframe to build and test classifier "
      ]
    },
    {
      "cell_type": "code",
      "metadata": {
        "colab_type": "code",
        "id": "UPlhz2FWfXkz",
        "colab": {}
      },
      "source": [
        "## np array of per-cell cilia correlations\n",
        "comb_cor = np.concatenate((DNAH11_wt1_cor,\n",
        "                           DNAH11_wt2_cor,\n",
        "                           DNAH11_wt3_cor,\n",
        "                           DNAH11_pt1_cor,\n",
        "                           DNAH11_pt2_cor),axis = 0)\n",
        "\n",
        "## np array of all sample names\n",
        "cor_names = np.concatenate((np.repeat(\"DNAH11_wt1\",len(DNAH11_wt1_cor)),\n",
        "                      np.repeat(\"DNAH11_wt2\",len(DNAH11_wt2_cor)),\n",
        "                      np.repeat(\"DNAH11_wt3\",len(DNAH11_wt3_cor)),\n",
        "                      np.repeat(\"DNAH11_pt1\",len(DNAH11_pt1_cor)),\n",
        "                      np.repeat(\"DNAH11_pt2\",len(DNAH11_pt2_cor))),axis = 0)\n",
        "\n",
        "## np array of {0,1} labels \n",
        "case_status = np.concatenate((np.repeat(0,len(DNAH11_wt1_cor)),\n",
        "                      np.repeat(0,len(DNAH11_wt2_cor)),\n",
        "                      np.repeat(0,len(DNAH11_wt3_cor)),\n",
        "                      np.repeat(1,len(DNAH11_pt1_cor)),\n",
        "                      np.repeat(1,len(DNAH11_pt2_cor))),axis = 0)\n",
        "\n",
        "## creating df\n",
        "dnah11_df = pd.DataFrame.from_dict({'Correlation' : comb_cor, 'Sample' : cor_names, 'Label' : case_status})\n",
        "                                  "
      ],
      "execution_count": 0,
      "outputs": []
    },
    {
      "cell_type": "code",
      "metadata": {
        "id": "kxyTJl-PgzLJ",
        "colab_type": "code",
        "outputId": "2d9d6b88-ccf0-43ae-ed4c-cd30840cdce2",
        "colab": {
          "base_uri": "https://localhost:8080/",
          "height": 440
        }
      },
      "source": [
        "sns.set(style=\"whitegrid\")\n",
        "ax = sns.stripplot(x=\"Sample\", y=\"Correlation\", data=dnah11_df)\n",
        "ax.set_xticklabels(ax.get_xticklabels(), rotation=90)"
      ],
      "execution_count": 0,
      "outputs": [
        {
          "output_type": "execute_result",
          "data": {
            "text/plain": [
              "[Text(0, 0, 'DNAH11_wt1'),\n",
              " Text(0, 0, 'DNAH11_wt2'),\n",
              " Text(0, 0, 'DNAH11_wt3'),\n",
              " Text(0, 0, 'DNAH11_pt1'),\n",
              " Text(0, 0, 'DNAH11_pt2')]"
            ]
          },
          "metadata": {
            "tags": []
          },
          "execution_count": 9
        },
        {
          "output_type": "display_data",
          "data": {
            "image/png": "[encoded data removed]",
            "text/plain": [
              "<Figure size 432x288 with 1 Axes>"
            ]
          },
          "metadata": {
            "tags": []
          }
        }
      ]
    },
    {
      "cell_type": "markdown",
      "metadata": {
        "id": "ZUGjJof4wEUO",
        "colab_type": "text"
      },
      "source": [
        "Classifier for DNAH11 samples "
      ]
    },
    {
      "cell_type": "code",
      "metadata": {
        "colab_type": "code",
        "id": "lUpk-Dr7wBu7",
        "colab": {}
      },
      "source": [
        "## Extract training samples, Cases: , Controls: \n",
        "training_samples = [\"DNAH11_wt1\",\"DNAH11_wt3\",\"DNAH11_pt1\"]\n",
        "train_df = dnah11_df.set_index(\"Sample\")\n",
        "train_df = train_df.loc[training_samples] ## extract training samples \n",
        "\n",
        "## Extract test samples (everyone else)\n",
        "test_df = dnah11_df.set_index(\"Sample\")\n",
        "test_df = test_df.drop(training_samples,axis=0) ## drop training samples \n",
        "\n",
        "\n",
        "x = np.array(train_df.Correlation.tolist())\n",
        "y = np.array(train_df.Label.tolist())\n",
        "\n",
        "clf = SVC(kernel='rbf',gamma = 'auto', random_state=1234).fit(x.reshape(-1,1),y)\n",
        "\n",
        "## predict in held out sample \n",
        "x_ho = np.array(test_df.Correlation.tolist()).reshape(-1,1)\n",
        "y_ho = np.array(test_df.Label.tolist())\n",
        "\n",
        "ho_pred = clf.predict(x_ho)\n",
        "\n",
        "pred_array = ho_pred\n",
        "label_array = y_ho\n",
        "sample_array = np.array(test_df.index)\n"
      ],
      "execution_count": 0,
      "outputs": []
    },
    {
      "cell_type": "code",
      "metadata": {
        "colab_type": "code",
        "outputId": "31f688c7-8401-4f27-e2d9-ff8fd3463a50",
        "id": "TvFM62v3wfp5",
        "colab": {
          "base_uri": "https://localhost:8080/",
          "height": 52
        }
      },
      "source": [
        "sample_names = test_df.index.unique()\n",
        "\n",
        "dnah11_pred_df = pd.DataFrame.from_dict({'Prediction' : pred_array, 'Sample' : sample_array, 'Label' : label_array})\n",
        "dnah11_pred_df = dnah11_pred_df.set_index(\"Sample\")\n",
        "\n",
        "for name in sample_names: \n",
        "  pred_mean = dnah11_pred_df.loc[name].Prediction.mean()\n",
        "  pred_mean_sd = dnah11_pred_df.loc[name].Prediction.std()\n",
        "  pred_samp_size = dnah11_pred_df.loc[name].Prediction.size\n",
        "  pred_se_mean = pred_mean_sd/np.sqrt(pred_samp_size)\n",
        "  pred_lcl = pred_mean - 1.96*pred_se_mean\n",
        "  pred_ucl = pred_mean + 1.96*pred_se_mean\n",
        "  print(name,\"Mean: \",pred_mean,\", LCL: \",pred_lcl,\", UCL: \",pred_ucl)\n",
        "\n"
      ],
      "execution_count": 0,
      "outputs": [
        {
          "output_type": "stream",
          "text": [
            "DNAH11_wt2 Mean:  0.4715447154471545 , LCL:  0.38296348274056313 , UCL:  0.5601259481537458\n",
            "DNAH11_pt2 Mean:  0.7801418439716312 , LCL:  0.7115377346434765 , UCL:  0.848745953299786\n"
          ],
          "name": "stdout"
        }
      ]
    }
  ]
}